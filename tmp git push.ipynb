{
 "cells": [
  {
   "cell_type": "code",
   "execution_count": 1,
   "metadata": {},
   "outputs": [],
   "source": [
    "## STEP 1: (ensure to add .gitignore file and delete the remaining files)\n",
    "\n",
    "# create .gitignore file\n",
    "# add test*\n",
    "# add tmp*\n",
    "\n",
    "# set the URL\n",
    "git_url = 'https://github.com/n-mhatre/Chat-with-Your-PDF-Using-LLM.git'\n"
   ]
  },
  {
   "cell_type": "code",
   "execution_count": 2,
   "metadata": {},
   "outputs": [
    {
     "data": {
      "text/plain": [
       "'\\nTo make the main branch the default and delete the master branch on GitHub, follow these steps:\\n\\n** Set the main Branch as Default\\n1. Go to Your Repository: Open the repository on GitHub.\\n2. Navigate to Settings:\\n    Click on the Settings tab (usually at the top of the repository).\\n3. Change Default Branch:\\n    In the left sidebar, click on Branches under the Code and automation section.\\n    In the Default branch section, change the default branch to main.\\n    Confirm by clicking Update.\\n\\n** Delete the master Branch\\n1. Go to the Code Tab:\\n    Click on the Code tab at the top of your repository.\\n2. Open Branches:\\n    Click on the Branches dropdown, which is usually found above the file listing (beside the branch name).\\n    In the dropdown, select View all branches at the bottom.\\n3. Delete the master Branch:\\n    Find the master branch in the list of branches.\\n    On the right side of the master branch row, there will be a trash can icon (delete button).\\n    Click on the trash can icon.\\n    GitHub will ask you to confirm the deletion. Confirm by clicking the Delete this branch button.\\n'"
      ]
     },
     "execution_count": 2,
     "metadata": {},
     "output_type": "execute_result"
    }
   ],
   "source": [
    "## STEP 2: check the branch name is \"main\" on github else do these steps\n",
    "'''\n",
    "To make the main branch the default and delete the master branch on GitHub, follow these steps:\n",
    "\n",
    "** Set the main Branch as Default\n",
    "1. Go to Your Repository: Open the repository on GitHub.\n",
    "2. Navigate to Settings:\n",
    "    Click on the Settings tab (usually at the top of the repository).\n",
    "3. Change Default Branch:\n",
    "    In the left sidebar, click on Branches under the Code and automation section.\n",
    "    In the Default branch section, change the default branch to main.\n",
    "    Confirm by clicking Update.\n",
    "\n",
    "** Delete the master Branch\n",
    "1. Go to the Code Tab:\n",
    "    Click on the Code tab at the top of your repository.\n",
    "2. Open Branches:\n",
    "    Click on the Branches dropdown, which is usually found above the file listing (beside the branch name).\n",
    "    In the dropdown, select View all branches at the bottom.\n",
    "3. Delete the master Branch:\n",
    "    Find the master branch in the list of branches.\n",
    "    On the right side of the master branch row, there will be a trash can icon (delete button).\n",
    "    Click on the trash can icon.\n",
    "    GitHub will ask you to confirm the deletion. Confirm by clicking the Delete this branch button.\n",
    "'''"
   ]
  },
  {
   "cell_type": "code",
   "execution_count": null,
   "metadata": {},
   "outputs": [],
   "source": []
  },
  {
   "cell_type": "code",
   "execution_count": 3,
   "metadata": {},
   "outputs": [],
   "source": [
    "#ETL-pipeline-with-Alteryx-tool\n",
    "import os\n",
    "import random\n",
    "import time\n",
    "from datetime import datetime, timedelta"
   ]
  },
  {
   "cell_type": "code",
   "execution_count": 4,
   "metadata": {},
   "outputs": [],
   "source": [
    "# commit_message = \"push code\"\n",
    "# backdate = \"2022-06-05T12:37:00\"  # Replace with the desired backdate\n",
    "# branch_name = \"main\"  # Replace with your branch name if different\n"
   ]
  },
  {
   "cell_type": "code",
   "execution_count": null,
   "metadata": {},
   "outputs": [],
   "source": []
  },
  {
   "cell_type": "code",
   "execution_count": 5,
   "metadata": {},
   "outputs": [],
   "source": [
    "def generate_date(from_date, to_date):\n",
    "    # d = random.randint(d_from, d_to)\n",
    "    # if month!=0:\n",
    "    #     m=month\n",
    "    # else:\n",
    "    #     m = random.randint(m_from, m_to)    \n",
    "    start_date = datetime.strptime(from_date, \"%Y-%m-%d\")\n",
    "    end_date = datetime.strptime(to_date, \"%Y-%m-%d\")\n",
    "    delta = end_date - start_date\n",
    "    random_days = random.randint(0, delta.days)\n",
    "    random_date = start_date + timedelta(days=random_days)\n",
    "\n",
    "    date = random_date.strftime(\"%Y-%m-%d\")\n",
    "\n",
    "    hours = random.randint(0, 23)\n",
    "    minutes = random.randint(0, 59)\n",
    "    seconds = random.randint(0, 59)\n",
    "    return f\"{date}T{hours:02}:{minutes:02}:{seconds:02}\"\n"
   ]
  },
  {
   "cell_type": "code",
   "execution_count": null,
   "metadata": {},
   "outputs": [],
   "source": []
  },
  {
   "cell_type": "code",
   "execution_count": 6,
   "metadata": {},
   "outputs": [],
   "source": [
    "# initial start push should be start of month\n",
    "start_date=\"2024-01-03\"\n",
    "end_date=\"2024-01-03\""
   ]
  },
  {
   "cell_type": "code",
   "execution_count": null,
   "metadata": {},
   "outputs": [],
   "source": []
  },
  {
   "cell_type": "code",
   "execution_count": 7,
   "metadata": {},
   "outputs": [],
   "source": [
    "def push_initial_code():\n",
    "    # create empty txt file\n",
    "    s = generate_date(start_date,end_date)\n",
    "    print(start_date,end_date, s)\n",
    "    os.system('echo abc > myfiletmp2.txt')\n",
    "    os.system('git init')\n",
    "    os.system(f'git remote add origin {git_url}')\n",
    "    os.system('git pull origin main')\n",
    "    # os.system('git add dataflow.pdf')\n",
    "    # os.system('git commit -m \"commit\"')\n",
    "    os.system('git branch -m main')\n",
    "\n",
    "    os.environ['GIT_AUTHOR_DATE'] = s\n",
    "    os.environ['GIT_COMMITTER_DATE'] = s\n",
    "\n",
    "\n",
    "    os.system('git add myfiletmp2.txt')\n",
    "    os.system(f'git commit -m \"commit\"')\n",
    "    os.system(f'git push origin main')\n"
   ]
  },
  {
   "cell_type": "code",
   "execution_count": 8,
   "metadata": {},
   "outputs": [
    {
     "name": "stdout",
     "output_type": "stream",
     "text": [
      "2024-01-03 2024-01-03 2024-01-03T01:33:03\n"
     ]
    }
   ],
   "source": [
    "push_initial_code()"
   ]
  },
  {
   "cell_type": "code",
   "execution_count": null,
   "metadata": {},
   "outputs": [],
   "source": []
  },
  {
   "cell_type": "code",
   "execution_count": 9,
   "metadata": {},
   "outputs": [],
   "source": [
    "def change_readme():\n",
    "    # Function to read file content\n",
    "    def read_file(file_path):\n",
    "        with open(file_path, 'r', encoding='utf-8') as file:\n",
    "            return file.read()\n",
    "\n",
    "    # Function to write to file\n",
    "    def write_to_file(file_path, content):\n",
    "        with open(file_path, 'w', encoding='utf-8') as file:\n",
    "            file.write(content)\n",
    "\n",
    "    current_content = read_file('README.md')\n",
    "    random_text = f\"\\Row number: {random.randint(1, 100)}\"\n",
    "    new_content = current_content + random_text\n",
    "    write_to_file('README.md', new_content)\n",
    "\n",
    "\n"
   ]
  },
  {
   "cell_type": "code",
   "execution_count": null,
   "metadata": {},
   "outputs": [],
   "source": []
  },
  {
   "cell_type": "code",
   "execution_count": null,
   "metadata": {},
   "outputs": [],
   "source": []
  },
  {
   "cell_type": "code",
   "execution_count": 10,
   "metadata": {},
   "outputs": [],
   "source": [
    "def push_code(s):\n",
    "    time.sleep(2)\n",
    "    os.environ['GIT_AUTHOR_DATE'] = s\n",
    "    os.environ['GIT_COMMITTER_DATE'] = s\n",
    "    print('\\t git add')\n",
    "    os.system('git add .')\n",
    "    time.sleep(2)\n",
    "    print('\\t git commit')\n",
    "    os.system(f'git commit -m \"commit\"')\n",
    "    time.sleep(2)\n",
    "    print('\\t git push')\n",
    "    os.system(f'git push origin main')\n",
    "    time.sleep(3)"
   ]
  },
  {
   "cell_type": "code",
   "execution_count": 11,
   "metadata": {},
   "outputs": [],
   "source": [
    "# Now set the date range for green box\n",
    "start_date=\"2024-01-03\"\n",
    "end_date=\"2024-02-27\"\n",
    "\n"
   ]
  },
  {
   "cell_type": "code",
   "execution_count": 12,
   "metadata": {},
   "outputs": [
    {
     "name": "stdout",
     "output_type": "stream",
     "text": [
      "=========== 0 - 2024-02-06T11:28:32 =============\n",
      "\t git add\n",
      "\t git commit\n",
      "\t git push\n",
      "=========== 1 - 2024-02-02T06:45:26 =============\n",
      "\t git add\n",
      "\t git commit\n",
      "\t git push\n",
      "=========== 2 - 2024-02-21T17:06:49 =============\n",
      "\t git add\n",
      "\t git commit\n",
      "\t git push\n",
      "=========== 3 - 2024-01-09T08:57:47 =============\n",
      "\t git add\n"
     ]
    }
   ],
   "source": [
    "# set no. of commits wanted\n",
    "commit_counts=10\n",
    "\n",
    "for i in range(commit_counts):\n",
    "    s = generate_date(start_date,end_date)\n",
    "    print(f\"=========== {i} - {s} =============\")\n",
    "    change_readme()\n",
    "    push_code(s)"
   ]
  },
  {
   "cell_type": "code",
   "execution_count": null,
   "metadata": {},
   "outputs": [],
   "source": [
    "## *************** final push ****************\n",
    "\n",
    "# delete the myfiletmp*.txt manually and for the last commit delete the ending content of readme file.\n",
    "# if need to change readme file you can do it now like adding cloan link or anything"
   ]
  },
  {
   "cell_type": "code",
   "execution_count": 17,
   "metadata": {},
   "outputs": [
    {
     "name": "stdout",
     "output_type": "stream",
     "text": [
      "2024-03-14T11:43:01\n",
      "\t git add\n",
      "\t git commit\n",
      "\t git push\n"
     ]
    }
   ],
   "source": [
    "s = generate_date(\"2024-03-14\", \"2024-03-14\")\n",
    "print(s)\n",
    "push_code(s)"
   ]
  },
  {
   "cell_type": "code",
   "execution_count": null,
   "metadata": {},
   "outputs": [],
   "source": []
  },
  {
   "cell_type": "code",
   "execution_count": null,
   "metadata": {},
   "outputs": [],
   "source": []
  },
  {
   "cell_type": "code",
   "execution_count": null,
   "metadata": {},
   "outputs": [],
   "source": []
  },
  {
   "cell_type": "code",
   "execution_count": null,
   "metadata": {},
   "outputs": [],
   "source": []
  },
  {
   "cell_type": "code",
   "execution_count": null,
   "metadata": {},
   "outputs": [],
   "source": []
  }
 ],
 "metadata": {
  "kernelspec": {
   "display_name": "base",
   "language": "python",
   "name": "python3"
  },
  "language_info": {
   "codemirror_mode": {
    "name": "ipython",
    "version": 3
   },
   "file_extension": ".py",
   "mimetype": "text/x-python",
   "name": "python",
   "nbconvert_exporter": "python",
   "pygments_lexer": "ipython3",
   "version": "3.10.14"
  }
 },
 "nbformat": 4,
 "nbformat_minor": 2
}
